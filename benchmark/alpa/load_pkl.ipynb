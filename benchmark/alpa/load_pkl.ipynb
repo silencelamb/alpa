{
 "cells": [
  {
   "cell_type": "code",
   "execution_count": null,
   "metadata": {},
   "outputs": [],
   "source": [
    "import pickle\n",
    "\n",
    "pickle_file = './input_placement_specs_mlp.pkl'\n",
    "\n",
    "with open(pickle_file, 'rb') as f:\n",
    "    specs = pickle.load(f)"
   ]
  }
 ],
 "metadata": {
  "language_info": {
   "name": "python"
  },
  "orig_nbformat": 4
 },
 "nbformat": 4,
 "nbformat_minor": 2
}
